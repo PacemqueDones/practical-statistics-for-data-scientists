{
 "cells": [
  {
   "cell_type": "code",
   "execution_count": 28,
   "id": "99fb8b8e-a9bb-45cf-987b-f90d4c5db375",
   "metadata": {
    "id": "99fb8b8e-a9bb-45cf-987b-f90d4c5db375"
   },
   "outputs": [],
   "source": [
    "from pathlib import Path\n",
    "\n",
    "import pandas as pd\n",
    "import numpy as np\n",
    "from scipy.stats import trim_mean, iqr, median_abs_deviation, shapiro, kstest, normaltest, probplot, norm\n",
    "import matplotlib.pyplot as plt\n",
    "import seaborn as sns"
   ]
  },
  {
   "cell_type": "code",
   "execution_count": 2,
   "id": "8f88f662-e6e0-4afa-a795-35fb0fa8b497",
   "metadata": {
    "colab": {
     "base_uri": "https://localhost:8080/",
     "height": 1000
    },
    "id": "8f88f662-e6e0-4afa-a795-35fb0fa8b497",
    "outputId": "8d1aa27f-0a0d-406a-dbc1-18bcb4ba9ff6"
   },
   "outputs": [
    {
     "data": {
      "text/html": [
       "<div>\n",
       "<style scoped>\n",
       "    .dataframe tbody tr th:only-of-type {\n",
       "        vertical-align: middle;\n",
       "    }\n",
       "\n",
       "    .dataframe tbody tr th {\n",
       "        vertical-align: top;\n",
       "    }\n",
       "\n",
       "    .dataframe thead th {\n",
       "        text-align: right;\n",
       "    }\n",
       "</style>\n",
       "<table border=\"1\" class=\"dataframe\">\n",
       "  <thead>\n",
       "    <tr style=\"text-align: right;\">\n",
       "      <th></th>\n",
       "      <th>State</th>\n",
       "      <th>Population</th>\n",
       "      <th>Murder.Rate</th>\n",
       "      <th>Abbreviation</th>\n",
       "    </tr>\n",
       "  </thead>\n",
       "  <tbody>\n",
       "    <tr>\n",
       "      <th>49</th>\n",
       "      <td>Wyoming</td>\n",
       "      <td>563626</td>\n",
       "      <td>2.7</td>\n",
       "      <td>WY</td>\n",
       "    </tr>\n",
       "    <tr>\n",
       "      <th>44</th>\n",
       "      <td>Vermont</td>\n",
       "      <td>625741</td>\n",
       "      <td>1.6</td>\n",
       "      <td>VT</td>\n",
       "    </tr>\n",
       "    <tr>\n",
       "      <th>33</th>\n",
       "      <td>North Dakota</td>\n",
       "      <td>672591</td>\n",
       "      <td>3.0</td>\n",
       "      <td>ND</td>\n",
       "    </tr>\n",
       "    <tr>\n",
       "      <th>1</th>\n",
       "      <td>Alaska</td>\n",
       "      <td>710231</td>\n",
       "      <td>5.6</td>\n",
       "      <td>AK</td>\n",
       "    </tr>\n",
       "    <tr>\n",
       "      <th>40</th>\n",
       "      <td>South Dakota</td>\n",
       "      <td>814180</td>\n",
       "      <td>2.3</td>\n",
       "      <td>SD</td>\n",
       "    </tr>\n",
       "  </tbody>\n",
       "</table>\n",
       "</div>"
      ],
      "text/plain": [
       "           State  Population  Murder.Rate Abbreviation\n",
       "49       Wyoming      563626          2.7           WY\n",
       "44       Vermont      625741          1.6           VT\n",
       "33  North Dakota      672591          3.0           ND\n",
       "1         Alaska      710231          5.6           AK\n",
       "40  South Dakota      814180          2.3           SD"
      ]
     },
     "execution_count": 2,
     "metadata": {},
     "output_type": "execute_result"
    }
   ],
   "source": [
    "state = pd.read_csv('state.csv').sort_values(by=['Population']) # read document\n",
    "\n",
    "state.head(5)"
   ]
  },
  {
   "cell_type": "code",
   "execution_count": 3,
   "id": "a15500af-5344-4add-84ad-982a6809cf77",
   "metadata": {
    "colab": {
     "base_uri": "https://localhost:8080/"
    },
    "id": "a15500af-5344-4add-84ad-982a6809cf77",
    "outputId": "2176ba8f-85cf-4eac-e0b6-60b96fbebfbb"
   },
   "outputs": [
    {
     "data": {
      "text/plain": [
       "6162876.3"
      ]
     },
     "execution_count": 3,
     "metadata": {},
     "output_type": "execute_result"
    }
   ],
   "source": [
    "np.mean(state['Population']) # mean"
   ]
  },
  {
   "cell_type": "code",
   "execution_count": 4,
   "id": "cf4748b7-574f-4485-bf27-d9d7288ab055",
   "metadata": {
    "colab": {
     "base_uri": "https://localhost:8080/"
    },
    "id": "cf4748b7-574f-4485-bf27-d9d7288ab055",
    "outputId": "5b5d2d4a-c2c3-4600-aec5-fed2c315fb1f"
   },
   "outputs": [
    {
     "data": {
      "text/plain": [
       "4783697.125"
      ]
     },
     "execution_count": 4,
     "metadata": {},
     "output_type": "execute_result"
    }
   ],
   "source": [
    "trim_mean(state['Population'], 0.1) # trimmed mean"
   ]
  },
  {
   "cell_type": "code",
   "execution_count": 5,
   "id": "0a4aa331-fa60-4aea-a803-15ee72cd2e50",
   "metadata": {
    "colab": {
     "base_uri": "https://localhost:8080/"
    },
    "id": "0a4aa331-fa60-4aea-a803-15ee72cd2e50",
    "outputId": "cd611850-5e71-40f2-d202-51d7c84cf48c"
   },
   "outputs": [
    {
     "data": {
      "text/plain": [
       "4436369.5"
      ]
     },
     "execution_count": 5,
     "metadata": {},
     "output_type": "execute_result"
    }
   ],
   "source": [
    "np.median(state['Population']) # median"
   ]
  },
  {
   "cell_type": "code",
   "execution_count": 6,
   "id": "d11f8edf-4818-4005-b452-b07da169c0c2",
   "metadata": {
    "colab": {
     "base_uri": "https://localhost:8080/"
    },
    "id": "d11f8edf-4818-4005-b452-b07da169c0c2",
    "outputId": "ff77aea2-1fb1-4a23-8b50-dc0fde871ba2"
   },
   "outputs": [
    {
     "data": {
      "text/plain": [
       "4.445833981123393"
      ]
     },
     "execution_count": 6,
     "metadata": {},
     "output_type": "execute_result"
    }
   ],
   "source": [
    "np.average(state['Murder.Rate'], weights = state['Population'] ) # weighted mean"
   ]
  },
  {
   "cell_type": "code",
   "execution_count": 7,
   "id": "fc04c77f-ccbb-4e6e-a46d-7c62e8cddadf",
   "metadata": {
    "id": "fc04c77f-ccbb-4e6e-a46d-7c62e8cddadf"
   },
   "outputs": [],
   "source": [
    "# function that return the weighted median.\n",
    "def weighted_median(value, weight) -> float:\n",
    "    df = pd.DataFrame(data=[value,weight]).T\n",
    "    df = df.sort_values(by=df.columns[0]).reset_index(drop=True)\n",
    "    value = df.iloc[:,0]\n",
    "    weight = df.iloc[:,1]\n",
    "\n",
    "    wCeil = 0\n",
    "    iterator = 0\n",
    "    half = sum(weight)/2\n",
    "\n",
    "    while wCeil < half:\n",
    "        wCeil += weight[iterator]\n",
    "        iterator+=1\n",
    "\n",
    "    wFloor = wCeil - weight[iterator-1]\n",
    "    vCeil = value[iterator]\n",
    "    vFloor = value[iterator-2]\n",
    "\n",
    "    return vFloor + ((half - wFloor) / (wCeil - wFloor)) * (vCeil - vFloor)"
   ]
  },
  {
   "cell_type": "code",
   "execution_count": 8,
   "id": "9b094b17-a8e9-4c98-b4d0-55ccc70e313e",
   "metadata": {
    "colab": {
     "base_uri": "https://localhost:8080/"
    },
    "id": "9b094b17-a8e9-4c98-b4d0-55ccc70e313e",
    "outputId": "fb2eb3de-3f24-4f05-bbed-bb0532354f85"
   },
   "outputs": [
    {
     "data": {
      "text/plain": [
       "4.421634381114027"
      ]
     },
     "execution_count": 8,
     "metadata": {},
     "output_type": "execute_result"
    }
   ],
   "source": [
    "weighted_median(state['Murder.Rate'], state['Population']) # weighted median"
   ]
  },
  {
   "cell_type": "code",
   "execution_count": 9,
   "id": "7efc3a2a-f441-4461-92cd-396aac113265",
   "metadata": {
    "colab": {
     "base_uri": "https://localhost:8080/"
    },
    "id": "7efc3a2a-f441-4461-92cd-396aac113265",
    "outputId": "b8a8f3eb-dc18-43a9-c067-96d1e403b035"
   },
   "outputs": [
    {
     "data": {
      "text/plain": [
       "6779407.114632265"
      ]
     },
     "execution_count": 9,
     "metadata": {},
     "output_type": "execute_result"
    }
   ],
   "source": [
    "np.std(state['Population']) # standard desviation"
   ]
  },
  {
   "cell_type": "code",
   "execution_count": 10,
   "id": "56rhPo1tP6LU",
   "metadata": {
    "colab": {
     "base_uri": "https://localhost:8080/"
    },
    "id": "56rhPo1tP6LU",
    "outputId": "3b4db679-99b7-4034-a003-e6a36ba9b950"
   },
   "outputs": [
    {
     "data": {
      "text/plain": [
       "4847308.0"
      ]
     },
     "execution_count": 10,
     "metadata": {},
     "output_type": "execute_result"
    }
   ],
   "source": [
    "iqr(state['Population']) # interquartile range"
   ]
  },
  {
   "cell_type": "code",
   "execution_count": 11,
   "id": "iMunP1yITkaL",
   "metadata": {
    "id": "iMunP1yITkaL"
   },
   "outputs": [],
   "source": [
    "# median absolute deviation\n",
    "def mad(data, axis=None):\n",
    "    return np.median(np.absolute(data - np.median(data, axis)), axis)"
   ]
  },
  {
   "cell_type": "code",
   "execution_count": 12,
   "id": "3wbGfHnhTtTz",
   "metadata": {
    "colab": {
     "base_uri": "https://localhost:8080/"
    },
    "id": "3wbGfHnhTtTz",
    "outputId": "9c56e5ab-529f-403e-cb1c-07a935f75404"
   },
   "outputs": [
    {
     "data": {
      "text/plain": [
       "2596702.0"
      ]
     },
     "execution_count": 12,
     "metadata": {},
     "output_type": "execute_result"
    }
   ],
   "source": [
    "# median absolute desviation\n",
    "mad(state['Population'])"
   ]
  },
  {
   "cell_type": "code",
   "execution_count": 13,
   "id": "ebYGF_S6Q8uQ",
   "metadata": {
    "colab": {
     "base_uri": "https://localhost:8080/"
    },
    "id": "ebYGF_S6Q8uQ",
    "outputId": "ea9cb19f-fc59-4ef9-971c-1b64ef89f538"
   },
   "outputs": [
    {
     "data": {
      "text/plain": [
       "3849870.3852"
      ]
     },
     "execution_count": 13,
     "metadata": {},
     "output_type": "execute_result"
    }
   ],
   "source": [
    "median_abs_deviation(state['Population']) * 1.4826 # corrected  median absolute deviation \n",
    "\n",
    "# It's importante to note that the corrected median absolute\n",
    "# deviation does not approach the standard desviation, which\n",
    "# can signals that the correction is not adequate."
   ]
  },
  {
   "cell_type": "code",
   "execution_count": 14,
   "id": "e31cb5a9-4ff0-412d-b7fe-59ff8e443700",
   "metadata": {},
   "outputs": [
    {
     "data": {
      "image/png": "[encoded data removed]",
      "text/plain": [
       "<Figure size 1200x1200 with 4 Axes>"
      ]
     },
     "metadata": {},
     "output_type": "display_data"
    }
   ],
   "source": [
    "fig, axes = plt.subplots(2, 2, figsize=(12, 12))\n",
    "\n",
    "sns.histplot(data=state, x='Population', stat='density', ax=axes[0, 0])\n",
    "plt.title('Population Distribution (Histogram)', fontsize=10, loc='center')\n",
    "\n",
    "sns.boxplot(data=state, x='Population', ax=axes[0, 1])\n",
    "plt.title('Population Distribution (Boxplot)', fontsize=10, loc='center')\n",
    "\n",
    "sns.kdeplot(state, x='Population',ax=axes[1, 0])\n",
    "\n",
    "plt.show()\n",
    "\n",
    "#The distribution os the population does not appear to\n",
    "#correspond to rhe nomal distribution"
   ]
  },
  {
   "cell_type": "code",
   "execution_count": 15,
   "id": "09477e77-e86b-4b5c-afa4-ec600472d0b3",
   "metadata": {},
   "outputs": [
    {
     "name": "stdout",
     "output_type": "stream",
     "text": [
      "Shapiro-Wilk Test: Estatística=0.7192, p=0.0000\n",
      "Kolmogorov-Smirnov Test: Estatística=1.0000, p=0.0000\n",
      "D’Agostino’s K-squared Test: Estatística=47.0611, p=0.0000\n"
     ]
    }
   ],
   "source": [
    "stat, p = shapiro(state['Population'])\n",
    "print(f\"Shapiro-Wilk Test: Estatística={stat:.4f}, p={p:.4f}\")\n",
    "\n",
    "# Teste de Kolmogorov-Smirnov\n",
    "stat, p = kstest(state['Population'], 'norm')\n",
    "print(f\"Kolmogorov-Smirnov Test: Estatística={stat:.4f}, p={p:.4f}\")\n",
    "\n",
    "# Teste de D’Agostino (normaltest)\n",
    "stat, p = normaltest(state['Population'])\n",
    "print(f\"D’Agostino’s K-squared Test: Estatística={stat:.4f}, p={p:.4f}\")\n",
    "\n",
    "\n",
    "# Test interpretation\n",
    "# if the p-value is greater then 0.05, we do not reject H0, indicating \n",
    "# that the data can be considered normal. \n",
    "\n",
    "# else, we reject H0"
   ]
  },
  {
   "cell_type": "code",
   "execution_count": 16,
   "id": "853111df-5f72-43fd-b727-202dee87ee0c",
   "metadata": {},
   "outputs": [
    {
     "data": {
      "text/html": [
       "<div>\n",
       "<style scoped>\n",
       "    .dataframe tbody tr th:only-of-type {\n",
       "        vertical-align: middle;\n",
       "    }\n",
       "\n",
       "    .dataframe tbody tr th {\n",
       "        vertical-align: top;\n",
       "    }\n",
       "\n",
       "    .dataframe thead th {\n",
       "        text-align: right;\n",
       "    }\n",
       "</style>\n",
       "<table border=\"1\" class=\"dataframe\">\n",
       "  <thead>\n",
       "    <tr style=\"text-align: right;\">\n",
       "      <th></th>\n",
       "      <th>5%</th>\n",
       "      <th>25%</th>\n",
       "      <th>50%</th>\n",
       "      <th>75%</th>\n",
       "      <th>95%</th>\n",
       "    </tr>\n",
       "  </thead>\n",
       "  <tbody>\n",
       "    <tr>\n",
       "      <th>0</th>\n",
       "      <td>1.6</td>\n",
       "      <td>2.425</td>\n",
       "      <td>4.0</td>\n",
       "      <td>5.55</td>\n",
       "      <td>6.51</td>\n",
       "    </tr>\n",
       "  </tbody>\n",
       "</table>\n",
       "</div>"
      ],
      "text/plain": [
       "    5%    25%  50%   75%   95%\n",
       "0  1.6  2.425  4.0  5.55  6.51"
      ]
     },
     "execution_count": 16,
     "metadata": {},
     "output_type": "execute_result"
    }
   ],
   "source": [
    "# Visualizing the percentiles\n",
    "\n",
    "quantiles = np.quantile(state['Murder.Rate'],q=[0.05, 0.25, 0.5, 0.75, 0.95])\n",
    "percentiles = ['5%','25%','50%','75%','95%']\n",
    "\n",
    "df = pd.DataFrame(quantiles.reshape(1, -1), columns=percentiles)\n",
    "\n",
    "df"
   ]
  },
  {
   "cell_type": "code",
   "execution_count": 17,
   "id": "22ccc0ee-fc9c-43ae-9212-1962aa8c1a7f",
   "metadata": {},
   "outputs": [],
   "source": [
    "#displaing the frequncy table\n",
    "dfState = state\n",
    "num_bins = 11\n",
    "\n",
    "# Criando os intervalos\n",
    "bins = np.linspace(state['Population'].min(), state['Population'].max(), num_bins)\n",
    "\n",
    "pop_freq = pd.cut(state['Population'], bins, include_lowest=True)\n",
    "\n",
    "dfState['Population'] = pop_freq"
   ]
  },
  {
   "cell_type": "code",
   "execution_count": 18,
   "id": "c777f44d-d191-4cbb-a4a9-3e515786aca1",
   "metadata": {},
   "outputs": [
    {
     "name": "stderr",
     "output_type": "stream",
     "text": [
      "C:\\Users\\alpaula\\AppData\\Local\\Temp\\ipykernel_13820\\2983702753.py:1: FutureWarning: The default of observed=False is deprecated and will be changed to True in a future version of pandas. Pass observed=False to retain current behavior or observed=True to adopt the future default and silence this warning.\n",
      "  dfState.groupby('Population').agg({'State': 'count' ,'Abbreviation': list})\n"
     ]
    },
    {
     "data": {
      "text/html": [
       "<div>\n",
       "<style scoped>\n",
       "    .dataframe tbody tr th:only-of-type {\n",
       "        vertical-align: middle;\n",
       "    }\n",
       "\n",
       "    .dataframe tbody tr th {\n",
       "        vertical-align: top;\n",
       "    }\n",
       "\n",
       "    .dataframe thead th {\n",
       "        text-align: right;\n",
       "    }\n",
       "</style>\n",
       "<table border=\"1\" class=\"dataframe\">\n",
       "  <thead>\n",
       "    <tr style=\"text-align: right;\">\n",
       "      <th></th>\n",
       "      <th>State</th>\n",
       "      <th>Abbreviation</th>\n",
       "    </tr>\n",
       "    <tr>\n",
       "      <th>Population</th>\n",
       "      <th></th>\n",
       "      <th></th>\n",
       "    </tr>\n",
       "  </thead>\n",
       "  <tbody>\n",
       "    <tr>\n",
       "      <th>(563625.999, 4232659.0]</th>\n",
       "      <td>24</td>\n",
       "      <td>[WY, VT, ND, AK, SD, DE, MT, RI, NH, ME, HI, I...</td>\n",
       "    </tr>\n",
       "    <tr>\n",
       "      <th>(4232659.0, 7901692.0]</th>\n",
       "      <td>14</td>\n",
       "      <td>[KY, LA, SC, AL, CO, MN, WI, MD, MO, TN, AZ, I...</td>\n",
       "    </tr>\n",
       "    <tr>\n",
       "      <th>(7901692.0, 11570725.0]</th>\n",
       "      <td>6</td>\n",
       "      <td>[VA, NJ, NC, GA, MI, OH]</td>\n",
       "    </tr>\n",
       "    <tr>\n",
       "      <th>(11570725.0, 15239758.0]</th>\n",
       "      <td>2</td>\n",
       "      <td>[PA, IL]</td>\n",
       "    </tr>\n",
       "    <tr>\n",
       "      <th>(15239758.0, 18908791.0]</th>\n",
       "      <td>1</td>\n",
       "      <td>[FL]</td>\n",
       "    </tr>\n",
       "    <tr>\n",
       "      <th>(18908791.0, 22577824.0]</th>\n",
       "      <td>1</td>\n",
       "      <td>[NY]</td>\n",
       "    </tr>\n",
       "    <tr>\n",
       "      <th>(22577824.0, 26246857.0]</th>\n",
       "      <td>1</td>\n",
       "      <td>[TX]</td>\n",
       "    </tr>\n",
       "    <tr>\n",
       "      <th>(26246857.0, 29915890.0]</th>\n",
       "      <td>0</td>\n",
       "      <td>[]</td>\n",
       "    </tr>\n",
       "    <tr>\n",
       "      <th>(29915890.0, 33584923.0]</th>\n",
       "      <td>0</td>\n",
       "      <td>[]</td>\n",
       "    </tr>\n",
       "    <tr>\n",
       "      <th>(33584923.0, 37253956.0]</th>\n",
       "      <td>1</td>\n",
       "      <td>[CA]</td>\n",
       "    </tr>\n",
       "  </tbody>\n",
       "</table>\n",
       "</div>"
      ],
      "text/plain": [
       "                          State  \\\n",
       "Population                        \n",
       "(563625.999, 4232659.0]      24   \n",
       "(4232659.0, 7901692.0]       14   \n",
       "(7901692.0, 11570725.0]       6   \n",
       "(11570725.0, 15239758.0]      2   \n",
       "(15239758.0, 18908791.0]      1   \n",
       "(18908791.0, 22577824.0]      1   \n",
       "(22577824.0, 26246857.0]      1   \n",
       "(26246857.0, 29915890.0]      0   \n",
       "(29915890.0, 33584923.0]      0   \n",
       "(33584923.0, 37253956.0]      1   \n",
       "\n",
       "                                                               Abbreviation  \n",
       "Population                                                                   \n",
       "(563625.999, 4232659.0]   [WY, VT, ND, AK, SD, DE, MT, RI, NH, ME, HI, I...  \n",
       "(4232659.0, 7901692.0]    [KY, LA, SC, AL, CO, MN, WI, MD, MO, TN, AZ, I...  \n",
       "(7901692.0, 11570725.0]                            [VA, NJ, NC, GA, MI, OH]  \n",
       "(11570725.0, 15239758.0]                                           [PA, IL]  \n",
       "(15239758.0, 18908791.0]                                               [FL]  \n",
       "(18908791.0, 22577824.0]                                               [NY]  \n",
       "(22577824.0, 26246857.0]                                               [TX]  \n",
       "(26246857.0, 29915890.0]                                                 []  \n",
       "(29915890.0, 33584923.0]                                                 []  \n",
       "(33584923.0, 37253956.0]                                               [CA]  "
      ]
     },
     "execution_count": 18,
     "metadata": {},
     "output_type": "execute_result"
    }
   ],
   "source": [
    "dfState.groupby('Population').agg({'State': 'count' ,'Abbreviation': list})"
   ]
  },
  {
   "cell_type": "code",
   "execution_count": 25,
   "id": "724a3fa5-f4a5-4739-814c-d1fd633927f9",
   "metadata": {},
   "outputs": [
    {
     "data": {
      "text/plain": [
       "<Axes: xlabel='Murder.Rate', ylabel='Density'>"
      ]
     },
     "execution_count": 25,
     "metadata": {},
     "output_type": "execute_result"
    },
    {
     "data": {
      "image/png": "[encoded data removed]",
      "text/plain": [
       "<Figure size 1200x600 with 2 Axes>"
      ]
     },
     "metadata": {},
     "output_type": "display_data"
    }
   ],
   "source": [
    "# Analizing the distribuition through a histogram and a KDE\n",
    "fig, axes = plt.subplots(1, 2, figsize=(12, 6))\n",
    "\n",
    "sns.histplot(state['Murder.Rate'], bins=15, ax=axes[0])\n",
    "\n",
    "sns.kdeplot(state['Murder.Rate'], ax=axes[1], bw_method=0.25)"
   ]
  },
  {
   "cell_type": "code",
   "execution_count": 26,
   "id": "26f12dfe-24ab-470c-b782-9fa22c65395c",
   "metadata": {},
   "outputs": [],
   "source": [
    "# my KED study\n",
    "x = 2  # Ponto em que o KDE será calculado\n",
    "h = 0.25  # Largura de banda\n",
    "\n",
    "# Função Kernel Gaussiano\n",
    "def kernel_gaussiano(u):\n",
    "    return (1 / np.sqrt(2 * np.pi)) * np.exp(-0.5 * u**2)"
   ]
  },
  {
   "cell_type": "code",
   "execution_count": 21,
   "id": "45eef817-8c2f-4fde-bf39-9742305759a4",
   "metadata": {},
   "outputs": [
    {
     "data": {
      "text/plain": [
       "0.22907902291584456"
      ]
     },
     "execution_count": 21,
     "metadata": {},
     "output_type": "execute_result"
    }
   ],
   "source": [
    "# my KED study\n",
    "u = (x - state['Murder.Rate']) / h\n",
    "n = len(state['Murder.Rate'])\n",
    "\n",
    "kernels = kernel_gaussiano(u)\n",
    "\n",
    "kde_x = np.sum(kernels) / (n * h)  # Estimativa de densidade\n",
    "\n",
    "kde_x"
   ]
  },
  {
   "cell_type": "code",
   "execution_count": 22,
   "id": "a61b10d9-6ce1-4b63-924c-5f938a03f693",
   "metadata": {},
   "outputs": [],
   "source": [
    "x = np.linspace(0, 1, 100)\n",
    "\n",
    "y1 = np.sin(4*x) + np.random.normal(0, 1/3, 100)\n",
    "y2 = np.sin(4*x)"
   ]
  },
  {
   "cell_type": "code",
   "execution_count": 23,
   "id": "b08fb1c6-ba50-49eb-9b5d-9d9375259b88",
   "metadata": {},
   "outputs": [],
   "source": [
    "from sklearn.neighbors import KNeighborsRegressor\n",
    "\n",
    "knn = KNeighborsRegressor(n_neighbors=30)  # Escolhendo k=5\n",
    "\n",
    "knn.fit(x.reshape(-1, 1), y1)\n",
    "\n",
    "lista = []\n",
    "for s in x:\n",
    "    lista.append(knn.predict([[s]])[0] )"
   ]
  },
  {
   "cell_type": "code",
   "execution_count": 24,
   "id": "ddbc001b-793b-4dad-9180-7728f29569bc",
   "metadata": {},
   "outputs": [
    {
     "data": {
      "text/plain": [
       "[<matplotlib.lines.Line2D at 0x19f4e39e480>]"
      ]
     },
     "execution_count": 24,
     "metadata": {},
     "output_type": "execute_result"
    },
    {
     "data": {
      "image/png": "[encoded data removed]",
      "text/plain": [
       "<Figure size 640x480 with 1 Axes>"
      ]
     },
     "metadata": {},
     "output_type": "display_data"
    }
   ],
   "source": [
    "plt.scatter(x, y1)\n",
    "plt.plot(x,y2)\n",
    "plt.plot(x,np.array(lista),'r+')"
   ]
  },
  {
   "cell_type": "code",
   "execution_count": 29,
   "id": "962269ca-3ded-40ce-9bce-7cfc09d696ed",
   "metadata": {},
   "outputs": [],
   "source": [
    "try:\n",
    "    import common\n",
    "    DATA = common.dataDirectory()\n",
    "except ImportError:\n",
    "    DATA = Path().resolve() / 'data'"
   ]
  },
  {
   "cell_type": "code",
   "execution_count": 31,
   "id": "d1ec473c-dc26-4553-887e-d8357da3b2ff",
   "metadata": {},
   "outputs": [],
   "source": [
    "AIRLINE_STATS_CSV = DATA / 'airline_stats.csv'\n",
    "KC_TAX_CSV = DATA / 'kc_tax.csv.gz'\n",
    "LC_LOANS_CSV = DATA / 'lc_loans.csv'\n",
    "AIRPORT_DELAYS_CSV = DATA / 'dfw_airline.csv'\n",
    "SP500_DATA_CSV = DATA / 'sp500_data.csv.gz'\n",
    "SP500_SECTORS_CSV = DATA / 'sp500_sectors.csv'\n",
    "STATE_CSV = DATA / 'state.csv'"
   ]
  },
  {
   "cell_type": "code",
   "execution_count": 32,
   "id": "cab13732-d32f-41dd-ac57-e83344ad4cf2",
   "metadata": {},
   "outputs": [
    {
     "ename": "FileNotFoundError",
     "evalue": "[Errno 2] No such file or directory: 'C:\\\\Users\\\\alpaula\\\\Documents\\\\Udemy - IA\\\\Practical-statistics-for-data-scientists\\\\practical-statistics-for-data-scientists\\\\Chapter 1 - Exploratory Data Analysis\\\\data\\\\dfw_airline.csv'",
     "output_type": "error",
     "traceback": [
      "\u001b[1;31m---------------------------------------------------------------------------\u001b[0m",
      "\u001b[1;31mFileNotFoundError\u001b[0m                         Traceback (most recent call last)",
      "Cell \u001b[1;32mIn[32], line 2\u001b[0m\n\u001b[0;32m      1\u001b[0m \u001b[38;5;66;03m# Table 1-6\u001b[39;00m\n\u001b[1;32m----> 2\u001b[0m dfw \u001b[38;5;241m=\u001b[39m \u001b[43mpd\u001b[49m\u001b[38;5;241;43m.\u001b[39;49m\u001b[43mread_csv\u001b[49m\u001b[43m(\u001b[49m\u001b[43mAIRPORT_DELAYS_CSV\u001b[49m\u001b[43m)\u001b[49m\n\u001b[0;32m      3\u001b[0m \u001b[38;5;28mprint\u001b[39m(\u001b[38;5;241m100\u001b[39m \u001b[38;5;241m*\u001b[39m dfw \u001b[38;5;241m/\u001b[39m dfw\u001b[38;5;241m.\u001b[39mvalues\u001b[38;5;241m.\u001b[39msum())\n",
      "File \u001b[1;32m~\\AppData\\Roaming\\Python\\Python312\\site-packages\\pandas\\io\\parsers\\readers.py:1026\u001b[0m, in \u001b[0;36mread_csv\u001b[1;34m(filepath_or_buffer, sep, delimiter, header, names, index_col, usecols, dtype, engine, converters, true_values, false_values, skipinitialspace, skiprows, skipfooter, nrows, na_values, keep_default_na, na_filter, verbose, skip_blank_lines, parse_dates, infer_datetime_format, keep_date_col, date_parser, date_format, dayfirst, cache_dates, iterator, chunksize, compression, thousands, decimal, lineterminator, quotechar, quoting, doublequote, escapechar, comment, encoding, encoding_errors, dialect, on_bad_lines, delim_whitespace, low_memory, memory_map, float_precision, storage_options, dtype_backend)\u001b[0m\n\u001b[0;32m   1013\u001b[0m kwds_defaults \u001b[38;5;241m=\u001b[39m _refine_defaults_read(\n\u001b[0;32m   1014\u001b[0m     dialect,\n\u001b[0;32m   1015\u001b[0m     delimiter,\n\u001b[1;32m   (...)\u001b[0m\n\u001b[0;32m   1022\u001b[0m     dtype_backend\u001b[38;5;241m=\u001b[39mdtype_backend,\n\u001b[0;32m   1023\u001b[0m )\n\u001b[0;32m   1024\u001b[0m kwds\u001b[38;5;241m.\u001b[39mupdate(kwds_defaults)\n\u001b[1;32m-> 1026\u001b[0m \u001b[38;5;28;01mreturn\u001b[39;00m \u001b[43m_read\u001b[49m\u001b[43m(\u001b[49m\u001b[43mfilepath_or_buffer\u001b[49m\u001b[43m,\u001b[49m\u001b[43m \u001b[49m\u001b[43mkwds\u001b[49m\u001b[43m)\u001b[49m\n",
      "File \u001b[1;32m~\\AppData\\Roaming\\Python\\Python312\\site-packages\\pandas\\io\\parsers\\readers.py:620\u001b[0m, in \u001b[0;36m_read\u001b[1;34m(filepath_or_buffer, kwds)\u001b[0m\n\u001b[0;32m    617\u001b[0m _validate_names(kwds\u001b[38;5;241m.\u001b[39mget(\u001b[38;5;124m\"\u001b[39m\u001b[38;5;124mnames\u001b[39m\u001b[38;5;124m\"\u001b[39m, \u001b[38;5;28;01mNone\u001b[39;00m))\n\u001b[0;32m    619\u001b[0m \u001b[38;5;66;03m# Create the parser.\u001b[39;00m\n\u001b[1;32m--> 620\u001b[0m parser \u001b[38;5;241m=\u001b[39m \u001b[43mTextFileReader\u001b[49m\u001b[43m(\u001b[49m\u001b[43mfilepath_or_buffer\u001b[49m\u001b[43m,\u001b[49m\u001b[43m \u001b[49m\u001b[38;5;241;43m*\u001b[39;49m\u001b[38;5;241;43m*\u001b[39;49m\u001b[43mkwds\u001b[49m\u001b[43m)\u001b[49m\n\u001b[0;32m    622\u001b[0m \u001b[38;5;28;01mif\u001b[39;00m chunksize \u001b[38;5;129;01mor\u001b[39;00m iterator:\n\u001b[0;32m    623\u001b[0m     \u001b[38;5;28;01mreturn\u001b[39;00m parser\n",
      "File \u001b[1;32m~\\AppData\\Roaming\\Python\\Python312\\site-packages\\pandas\\io\\parsers\\readers.py:1620\u001b[0m, in \u001b[0;36mTextFileReader.__init__\u001b[1;34m(self, f, engine, **kwds)\u001b[0m\n\u001b[0;32m   1617\u001b[0m     \u001b[38;5;28mself\u001b[39m\u001b[38;5;241m.\u001b[39moptions[\u001b[38;5;124m\"\u001b[39m\u001b[38;5;124mhas_index_names\u001b[39m\u001b[38;5;124m\"\u001b[39m] \u001b[38;5;241m=\u001b[39m kwds[\u001b[38;5;124m\"\u001b[39m\u001b[38;5;124mhas_index_names\u001b[39m\u001b[38;5;124m\"\u001b[39m]\n\u001b[0;32m   1619\u001b[0m \u001b[38;5;28mself\u001b[39m\u001b[38;5;241m.\u001b[39mhandles: IOHandles \u001b[38;5;241m|\u001b[39m \u001b[38;5;28;01mNone\u001b[39;00m \u001b[38;5;241m=\u001b[39m \u001b[38;5;28;01mNone\u001b[39;00m\n\u001b[1;32m-> 1620\u001b[0m \u001b[38;5;28mself\u001b[39m\u001b[38;5;241m.\u001b[39m_engine \u001b[38;5;241m=\u001b[39m \u001b[38;5;28;43mself\u001b[39;49m\u001b[38;5;241;43m.\u001b[39;49m\u001b[43m_make_engine\u001b[49m\u001b[43m(\u001b[49m\u001b[43mf\u001b[49m\u001b[43m,\u001b[49m\u001b[43m \u001b[49m\u001b[38;5;28;43mself\u001b[39;49m\u001b[38;5;241;43m.\u001b[39;49m\u001b[43mengine\u001b[49m\u001b[43m)\u001b[49m\n",
      "File \u001b[1;32m~\\AppData\\Roaming\\Python\\Python312\\site-packages\\pandas\\io\\parsers\\readers.py:1880\u001b[0m, in \u001b[0;36mTextFileReader._make_engine\u001b[1;34m(self, f, engine)\u001b[0m\n\u001b[0;32m   1878\u001b[0m     \u001b[38;5;28;01mif\u001b[39;00m \u001b[38;5;124m\"\u001b[39m\u001b[38;5;124mb\u001b[39m\u001b[38;5;124m\"\u001b[39m \u001b[38;5;129;01mnot\u001b[39;00m \u001b[38;5;129;01min\u001b[39;00m mode:\n\u001b[0;32m   1879\u001b[0m         mode \u001b[38;5;241m+\u001b[39m\u001b[38;5;241m=\u001b[39m \u001b[38;5;124m\"\u001b[39m\u001b[38;5;124mb\u001b[39m\u001b[38;5;124m\"\u001b[39m\n\u001b[1;32m-> 1880\u001b[0m \u001b[38;5;28mself\u001b[39m\u001b[38;5;241m.\u001b[39mhandles \u001b[38;5;241m=\u001b[39m \u001b[43mget_handle\u001b[49m\u001b[43m(\u001b[49m\n\u001b[0;32m   1881\u001b[0m \u001b[43m    \u001b[49m\u001b[43mf\u001b[49m\u001b[43m,\u001b[49m\n\u001b[0;32m   1882\u001b[0m \u001b[43m    \u001b[49m\u001b[43mmode\u001b[49m\u001b[43m,\u001b[49m\n\u001b[0;32m   1883\u001b[0m \u001b[43m    \u001b[49m\u001b[43mencoding\u001b[49m\u001b[38;5;241;43m=\u001b[39;49m\u001b[38;5;28;43mself\u001b[39;49m\u001b[38;5;241;43m.\u001b[39;49m\u001b[43moptions\u001b[49m\u001b[38;5;241;43m.\u001b[39;49m\u001b[43mget\u001b[49m\u001b[43m(\u001b[49m\u001b[38;5;124;43m\"\u001b[39;49m\u001b[38;5;124;43mencoding\u001b[39;49m\u001b[38;5;124;43m\"\u001b[39;49m\u001b[43m,\u001b[49m\u001b[43m \u001b[49m\u001b[38;5;28;43;01mNone\u001b[39;49;00m\u001b[43m)\u001b[49m\u001b[43m,\u001b[49m\n\u001b[0;32m   1884\u001b[0m \u001b[43m    \u001b[49m\u001b[43mcompression\u001b[49m\u001b[38;5;241;43m=\u001b[39;49m\u001b[38;5;28;43mself\u001b[39;49m\u001b[38;5;241;43m.\u001b[39;49m\u001b[43moptions\u001b[49m\u001b[38;5;241;43m.\u001b[39;49m\u001b[43mget\u001b[49m\u001b[43m(\u001b[49m\u001b[38;5;124;43m\"\u001b[39;49m\u001b[38;5;124;43mcompression\u001b[39;49m\u001b[38;5;124;43m\"\u001b[39;49m\u001b[43m,\u001b[49m\u001b[43m \u001b[49m\u001b[38;5;28;43;01mNone\u001b[39;49;00m\u001b[43m)\u001b[49m\u001b[43m,\u001b[49m\n\u001b[0;32m   1885\u001b[0m \u001b[43m    \u001b[49m\u001b[43mmemory_map\u001b[49m\u001b[38;5;241;43m=\u001b[39;49m\u001b[38;5;28;43mself\u001b[39;49m\u001b[38;5;241;43m.\u001b[39;49m\u001b[43moptions\u001b[49m\u001b[38;5;241;43m.\u001b[39;49m\u001b[43mget\u001b[49m\u001b[43m(\u001b[49m\u001b[38;5;124;43m\"\u001b[39;49m\u001b[38;5;124;43mmemory_map\u001b[39;49m\u001b[38;5;124;43m\"\u001b[39;49m\u001b[43m,\u001b[49m\u001b[43m \u001b[49m\u001b[38;5;28;43;01mFalse\u001b[39;49;00m\u001b[43m)\u001b[49m\u001b[43m,\u001b[49m\n\u001b[0;32m   1886\u001b[0m \u001b[43m    \u001b[49m\u001b[43mis_text\u001b[49m\u001b[38;5;241;43m=\u001b[39;49m\u001b[43mis_text\u001b[49m\u001b[43m,\u001b[49m\n\u001b[0;32m   1887\u001b[0m \u001b[43m    \u001b[49m\u001b[43merrors\u001b[49m\u001b[38;5;241;43m=\u001b[39;49m\u001b[38;5;28;43mself\u001b[39;49m\u001b[38;5;241;43m.\u001b[39;49m\u001b[43moptions\u001b[49m\u001b[38;5;241;43m.\u001b[39;49m\u001b[43mget\u001b[49m\u001b[43m(\u001b[49m\u001b[38;5;124;43m\"\u001b[39;49m\u001b[38;5;124;43mencoding_errors\u001b[39;49m\u001b[38;5;124;43m\"\u001b[39;49m\u001b[43m,\u001b[49m\u001b[43m \u001b[49m\u001b[38;5;124;43m\"\u001b[39;49m\u001b[38;5;124;43mstrict\u001b[39;49m\u001b[38;5;124;43m\"\u001b[39;49m\u001b[43m)\u001b[49m\u001b[43m,\u001b[49m\n\u001b[0;32m   1888\u001b[0m \u001b[43m    \u001b[49m\u001b[43mstorage_options\u001b[49m\u001b[38;5;241;43m=\u001b[39;49m\u001b[38;5;28;43mself\u001b[39;49m\u001b[38;5;241;43m.\u001b[39;49m\u001b[43moptions\u001b[49m\u001b[38;5;241;43m.\u001b[39;49m\u001b[43mget\u001b[49m\u001b[43m(\u001b[49m\u001b[38;5;124;43m\"\u001b[39;49m\u001b[38;5;124;43mstorage_options\u001b[39;49m\u001b[38;5;124;43m\"\u001b[39;49m\u001b[43m,\u001b[49m\u001b[43m \u001b[49m\u001b[38;5;28;43;01mNone\u001b[39;49;00m\u001b[43m)\u001b[49m\u001b[43m,\u001b[49m\n\u001b[0;32m   1889\u001b[0m \u001b[43m\u001b[49m\u001b[43m)\u001b[49m\n\u001b[0;32m   1890\u001b[0m \u001b[38;5;28;01massert\u001b[39;00m \u001b[38;5;28mself\u001b[39m\u001b[38;5;241m.\u001b[39mhandles \u001b[38;5;129;01mis\u001b[39;00m \u001b[38;5;129;01mnot\u001b[39;00m \u001b[38;5;28;01mNone\u001b[39;00m\n\u001b[0;32m   1891\u001b[0m f \u001b[38;5;241m=\u001b[39m \u001b[38;5;28mself\u001b[39m\u001b[38;5;241m.\u001b[39mhandles\u001b[38;5;241m.\u001b[39mhandle\n",
      "File \u001b[1;32m~\\AppData\\Roaming\\Python\\Python312\\site-packages\\pandas\\io\\common.py:873\u001b[0m, in \u001b[0;36mget_handle\u001b[1;34m(path_or_buf, mode, encoding, compression, memory_map, is_text, errors, storage_options)\u001b[0m\n\u001b[0;32m    868\u001b[0m \u001b[38;5;28;01melif\u001b[39;00m \u001b[38;5;28misinstance\u001b[39m(handle, \u001b[38;5;28mstr\u001b[39m):\n\u001b[0;32m    869\u001b[0m     \u001b[38;5;66;03m# Check whether the filename is to be opened in binary mode.\u001b[39;00m\n\u001b[0;32m    870\u001b[0m     \u001b[38;5;66;03m# Binary mode does not support 'encoding' and 'newline'.\u001b[39;00m\n\u001b[0;32m    871\u001b[0m     \u001b[38;5;28;01mif\u001b[39;00m ioargs\u001b[38;5;241m.\u001b[39mencoding \u001b[38;5;129;01mand\u001b[39;00m \u001b[38;5;124m\"\u001b[39m\u001b[38;5;124mb\u001b[39m\u001b[38;5;124m\"\u001b[39m \u001b[38;5;129;01mnot\u001b[39;00m \u001b[38;5;129;01min\u001b[39;00m ioargs\u001b[38;5;241m.\u001b[39mmode:\n\u001b[0;32m    872\u001b[0m         \u001b[38;5;66;03m# Encoding\u001b[39;00m\n\u001b[1;32m--> 873\u001b[0m         handle \u001b[38;5;241m=\u001b[39m \u001b[38;5;28;43mopen\u001b[39;49m\u001b[43m(\u001b[49m\n\u001b[0;32m    874\u001b[0m \u001b[43m            \u001b[49m\u001b[43mhandle\u001b[49m\u001b[43m,\u001b[49m\n\u001b[0;32m    875\u001b[0m \u001b[43m            \u001b[49m\u001b[43mioargs\u001b[49m\u001b[38;5;241;43m.\u001b[39;49m\u001b[43mmode\u001b[49m\u001b[43m,\u001b[49m\n\u001b[0;32m    876\u001b[0m \u001b[43m            \u001b[49m\u001b[43mencoding\u001b[49m\u001b[38;5;241;43m=\u001b[39;49m\u001b[43mioargs\u001b[49m\u001b[38;5;241;43m.\u001b[39;49m\u001b[43mencoding\u001b[49m\u001b[43m,\u001b[49m\n\u001b[0;32m    877\u001b[0m \u001b[43m            \u001b[49m\u001b[43merrors\u001b[49m\u001b[38;5;241;43m=\u001b[39;49m\u001b[43merrors\u001b[49m\u001b[43m,\u001b[49m\n\u001b[0;32m    878\u001b[0m \u001b[43m            \u001b[49m\u001b[43mnewline\u001b[49m\u001b[38;5;241;43m=\u001b[39;49m\u001b[38;5;124;43m\"\u001b[39;49m\u001b[38;5;124;43m\"\u001b[39;49m\u001b[43m,\u001b[49m\n\u001b[0;32m    879\u001b[0m \u001b[43m        \u001b[49m\u001b[43m)\u001b[49m\n\u001b[0;32m    880\u001b[0m     \u001b[38;5;28;01melse\u001b[39;00m:\n\u001b[0;32m    881\u001b[0m         \u001b[38;5;66;03m# Binary mode\u001b[39;00m\n\u001b[0;32m    882\u001b[0m         handle \u001b[38;5;241m=\u001b[39m \u001b[38;5;28mopen\u001b[39m(handle, ioargs\u001b[38;5;241m.\u001b[39mmode)\n",
      "\u001b[1;31mFileNotFoundError\u001b[0m: [Errno 2] No such file or directory: 'C:\\\\Users\\\\alpaula\\\\Documents\\\\Udemy - IA\\\\Practical-statistics-for-data-scientists\\\\practical-statistics-for-data-scientists\\\\Chapter 1 - Exploratory Data Analysis\\\\data\\\\dfw_airline.csv'"
     ]
    }
   ],
   "source": [
    "# Table 1-6\n",
    "dfw = pd.read_csv(AIRPORT_DELAYS_CSV)\n",
    "print(100 * dfw / dfw.values.sum())"
   ]
  },
  {
   "cell_type": "code",
   "execution_count": null,
   "id": "2f080d6a-f7a9-4cb9-8e9a-9b74565db9c1",
   "metadata": {},
   "outputs": [],
   "source": []
  }
 ],
 "metadata": {
  "colab": {
   "provenance": []
  },
  "kernelspec": {
   "display_name": "Python 3 (ipykernel)",
   "language": "python",
   "name": "python3"
  },
  "language_info": {
   "codemirror_mode": {
    "name": "ipython",
    "version": 3
   },
   "file_extension": ".py",
   "mimetype": "text/x-python",
   "name": "python",
   "nbconvert_exporter": "python",
   "pygments_lexer": "ipython3",
   "version": "3.12.4"
  },
  "widgets": {
   "application/vnd.jupyter.widget-state+json": {
    "state": {},
    "version_major": 2,
    "version_minor": 0
   }
  }
 },
 "nbformat": 4,
 "nbformat_minor": 5
}
