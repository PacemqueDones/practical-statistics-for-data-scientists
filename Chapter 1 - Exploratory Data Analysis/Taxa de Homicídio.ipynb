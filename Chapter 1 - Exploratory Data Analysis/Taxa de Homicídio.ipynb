{
 "cells": [
  {
   "cell_type": "code",
   "execution_count": 1,
   "id": "99fb8b8e-a9bb-45cf-987b-f90d4c5db375",
   "metadata": {
    "id": "99fb8b8e-a9bb-45cf-987b-f90d4c5db375"
   },
   "outputs": [],
   "source": [
    "import pandas as pd\n",
    "import numpy as np\n",
    "from scipy.stats import trim_mean, iqr, median_abs_deviation, shapiro, kstest, normaltest, probplot, norm\n",
    "import matplotlib.pyplot as plt\n",
    "import seaborn as sns"
   ]
  },
  {
   "cell_type": "code",
   "execution_count": 2,
   "id": "8f88f662-e6e0-4afa-a795-35fb0fa8b497",
   "metadata": {
    "colab": {
     "base_uri": "https://localhost:8080/",
     "height": 1000
    },
    "id": "8f88f662-e6e0-4afa-a795-35fb0fa8b497",
    "outputId": "8d1aa27f-0a0d-406a-dbc1-18bcb4ba9ff6"
   },
   "outputs": [
    {
     "data": {
      "text/html": [
       "<div>\n",
       "<style scoped>\n",
       "    .dataframe tbody tr th:only-of-type {\n",
       "        vertical-align: middle;\n",
       "    }\n",
       "\n",
       "    .dataframe tbody tr th {\n",
       "        vertical-align: top;\n",
       "    }\n",
       "\n",
       "    .dataframe thead th {\n",
       "        text-align: right;\n",
       "    }\n",
       "</style>\n",
       "<table border=\"1\" class=\"dataframe\">\n",
       "  <thead>\n",
       "    <tr style=\"text-align: right;\">\n",
       "      <th></th>\n",
       "      <th>State</th>\n",
       "      <th>Population</th>\n",
       "      <th>Murder.Rate</th>\n",
       "      <th>Abbreviation</th>\n",
       "    </tr>\n",
       "  </thead>\n",
       "  <tbody>\n",
       "    <tr>\n",
       "      <th>49</th>\n",
       "      <td>Wyoming</td>\n",
       "      <td>563626</td>\n",
       "      <td>2.7</td>\n",
       "      <td>WY</td>\n",
       "    </tr>\n",
       "    <tr>\n",
       "      <th>44</th>\n",
       "      <td>Vermont</td>\n",
       "      <td>625741</td>\n",
       "      <td>1.6</td>\n",
       "      <td>VT</td>\n",
       "    </tr>\n",
       "    <tr>\n",
       "      <th>33</th>\n",
       "      <td>North Dakota</td>\n",
       "      <td>672591</td>\n",
       "      <td>3.0</td>\n",
       "      <td>ND</td>\n",
       "    </tr>\n",
       "    <tr>\n",
       "      <th>1</th>\n",
       "      <td>Alaska</td>\n",
       "      <td>710231</td>\n",
       "      <td>5.6</td>\n",
       "      <td>AK</td>\n",
       "    </tr>\n",
       "    <tr>\n",
       "      <th>40</th>\n",
       "      <td>South Dakota</td>\n",
       "      <td>814180</td>\n",
       "      <td>2.3</td>\n",
       "      <td>SD</td>\n",
       "    </tr>\n",
       "  </tbody>\n",
       "</table>\n",
       "</div>"
      ],
      "text/plain": [
       "           State  Population  Murder.Rate Abbreviation\n",
       "49       Wyoming      563626          2.7           WY\n",
       "44       Vermont      625741          1.6           VT\n",
       "33  North Dakota      672591          3.0           ND\n",
       "1         Alaska      710231          5.6           AK\n",
       "40  South Dakota      814180          2.3           SD"
      ]
     },
     "execution_count": 2,
     "metadata": {},
     "output_type": "execute_result"
    }
   ],
   "source": [
    "state = pd.read_csv('state.csv').sort_values(by=['Population']) # read document\n",
    "\n",
    "state.head(5)"
   ]
  },
  {
   "cell_type": "code",
   "execution_count": 3,
   "id": "a15500af-5344-4add-84ad-982a6809cf77",
   "metadata": {
    "colab": {
     "base_uri": "https://localhost:8080/"
    },
    "id": "a15500af-5344-4add-84ad-982a6809cf77",
    "outputId": "2176ba8f-85cf-4eac-e0b6-60b96fbebfbb"
   },
   "outputs": [
    {
     "data": {
      "text/plain": [
       "6162876.3"
      ]
     },
     "execution_count": 3,
     "metadata": {},
     "output_type": "execute_result"
    }
   ],
   "source": [
    "np.mean(state['Population']) # mean"
   ]
  },
  {
   "cell_type": "code",
   "execution_count": 4,
   "id": "cf4748b7-574f-4485-bf27-d9d7288ab055",
   "metadata": {
    "colab": {
     "base_uri": "https://localhost:8080/"
    },
    "id": "cf4748b7-574f-4485-bf27-d9d7288ab055",
    "outputId": "5b5d2d4a-c2c3-4600-aec5-fed2c315fb1f"
   },
   "outputs": [
    {
     "data": {
      "text/plain": [
       "4783697.125"
      ]
     },
     "execution_count": 4,
     "metadata": {},
     "output_type": "execute_result"
    }
   ],
   "source": [
    "trim_mean(state['Population'], 0.1) # trimmed mean"
   ]
  },
  {
   "cell_type": "code",
   "execution_count": 5,
   "id": "0a4aa331-fa60-4aea-a803-15ee72cd2e50",
   "metadata": {
    "colab": {
     "base_uri": "https://localhost:8080/"
    },
    "id": "0a4aa331-fa60-4aea-a803-15ee72cd2e50",
    "outputId": "cd611850-5e71-40f2-d202-51d7c84cf48c"
   },
   "outputs": [
    {
     "data": {
      "text/plain": [
       "4436369.5"
      ]
     },
     "execution_count": 5,
     "metadata": {},
     "output_type": "execute_result"
    }
   ],
   "source": [
    "np.median(state['Population']) # median"
   ]
  },
  {
   "cell_type": "code",
   "execution_count": 6,
   "id": "d11f8edf-4818-4005-b452-b07da169c0c2",
   "metadata": {
    "colab": {
     "base_uri": "https://localhost:8080/"
    },
    "id": "d11f8edf-4818-4005-b452-b07da169c0c2",
    "outputId": "ff77aea2-1fb1-4a23-8b50-dc0fde871ba2"
   },
   "outputs": [
    {
     "data": {
      "text/plain": [
       "4.445833981123393"
      ]
     },
     "execution_count": 6,
     "metadata": {},
     "output_type": "execute_result"
    }
   ],
   "source": [
    "np.average(state['Murder.Rate'], weights = state['Population'] ) # weighted mean"
   ]
  },
  {
   "cell_type": "code",
   "execution_count": 7,
   "id": "fc04c77f-ccbb-4e6e-a46d-7c62e8cddadf",
   "metadata": {
    "id": "fc04c77f-ccbb-4e6e-a46d-7c62e8cddadf"
   },
   "outputs": [],
   "source": [
    "# function that return the weighted median.\n",
    "def weighted_median(value, weight) -> float:\n",
    "    df = pd.DataFrame(data=[value,weight]).T\n",
    "    df = df.sort_values(by=df.columns[0]).reset_index(drop=True)\n",
    "    value = df.iloc[:,0]\n",
    "    weight = df.iloc[:,1]\n",
    "\n",
    "    wCeil = 0\n",
    "    iterator = 0\n",
    "    half = sum(weight)/2\n",
    "\n",
    "    while wCeil < half:\n",
    "        wCeil += weight[iterator]\n",
    "        iterator+=1\n",
    "\n",
    "    wFloor = wCeil - weight[iterator-1]\n",
    "    vCeil = value[iterator]\n",
    "    vFloor = value[iterator-2]\n",
    "\n",
    "    return vFloor + ((half - wFloor) / (wCeil - wFloor)) * (vCeil - vFloor)"
   ]
  },
  {
   "cell_type": "code",
   "execution_count": 8,
   "id": "9b094b17-a8e9-4c98-b4d0-55ccc70e313e",
   "metadata": {
    "colab": {
     "base_uri": "https://localhost:8080/"
    },
    "id": "9b094b17-a8e9-4c98-b4d0-55ccc70e313e",
    "outputId": "fb2eb3de-3f24-4f05-bbed-bb0532354f85"
   },
   "outputs": [
    {
     "data": {
      "text/plain": [
       "4.421634381114027"
      ]
     },
     "execution_count": 8,
     "metadata": {},
     "output_type": "execute_result"
    }
   ],
   "source": [
    "weighted_median(state['Murder.Rate'], state['Population']) # weighted median"
   ]
  },
  {
   "cell_type": "code",
   "execution_count": 9,
   "id": "7efc3a2a-f441-4461-92cd-396aac113265",
   "metadata": {
    "colab": {
     "base_uri": "https://localhost:8080/"
    },
    "id": "7efc3a2a-f441-4461-92cd-396aac113265",
    "outputId": "b8a8f3eb-dc18-43a9-c067-96d1e403b035"
   },
   "outputs": [
    {
     "data": {
      "text/plain": [
       "6779407.114632265"
      ]
     },
     "execution_count": 9,
     "metadata": {},
     "output_type": "execute_result"
    }
   ],
   "source": [
    "np.std(state['Population']) # standard desviation"
   ]
  },
  {
   "cell_type": "code",
   "execution_count": 10,
   "id": "56rhPo1tP6LU",
   "metadata": {
    "colab": {
     "base_uri": "https://localhost:8080/"
    },
    "id": "56rhPo1tP6LU",
    "outputId": "3b4db679-99b7-4034-a003-e6a36ba9b950"
   },
   "outputs": [
    {
     "data": {
      "text/plain": [
       "4847308.0"
      ]
     },
     "execution_count": 10,
     "metadata": {},
     "output_type": "execute_result"
    }
   ],
   "source": [
    "iqr(state['Population']) # interquartile range"
   ]
  },
  {
   "cell_type": "code",
   "execution_count": 11,
   "id": "iMunP1yITkaL",
   "metadata": {
    "id": "iMunP1yITkaL"
   },
   "outputs": [],
   "source": [
    "# median absolute deviation\n",
    "def mad(data, axis=None):\n",
    "    return np.median(np.absolute(data - np.median(data, axis)), axis)"
   ]
  },
  {
   "cell_type": "code",
   "execution_count": 12,
   "id": "3wbGfHnhTtTz",
   "metadata": {
    "colab": {
     "base_uri": "https://localhost:8080/"
    },
    "id": "3wbGfHnhTtTz",
    "outputId": "9c56e5ab-529f-403e-cb1c-07a935f75404"
   },
   "outputs": [
    {
     "data": {
      "text/plain": [
       "2596702.0"
      ]
     },
     "execution_count": 12,
     "metadata": {},
     "output_type": "execute_result"
    }
   ],
   "source": [
    "# median absolute desviation\n",
    "mad(state['Population'])"
   ]
  },
  {
   "cell_type": "code",
   "execution_count": 13,
   "id": "ebYGF_S6Q8uQ",
   "metadata": {
    "colab": {
     "base_uri": "https://localhost:8080/"
    },
    "id": "ebYGF_S6Q8uQ",
    "outputId": "ea9cb19f-fc59-4ef9-971c-1b64ef89f538"
   },
   "outputs": [
    {
     "data": {
      "text/plain": [
       "3849870.3852"
      ]
     },
     "execution_count": 13,
     "metadata": {},
     "output_type": "execute_result"
    }
   ],
   "source": [
    "median_abs_deviation(state['Population']) * 1.4826 # corrected  median absolute deviation \n",
    "\n",
    "# It's importante to note that the corrected median absolute\n",
    "# deviation does not approach the standard desviation, which\n",
    "# can signals that the correction is not adequate."
   ]
  },
  {
   "cell_type": "code",
   "execution_count": 14,
   "id": "e31cb5a9-4ff0-412d-b7fe-59ff8e443700",
   "metadata": {},
   "outputs": [
    {
     "data": {
      "image/png": "[encoded data removed]",
      "text/plain": [
       "<Figure size 1200x1200 with 4 Axes>"
      ]
     },
     "metadata": {},
     "output_type": "display_data"
    }
   ],
   "source": [
    "fig, axes = plt.subplots(2, 2, figsize=(12, 12))\n",
    "\n",
    "sns.histplot(data=state, x='Population', stat='density', ax=axes[0, 0])\n",
    "plt.title('Population Distribution (Histogram)', fontsize=10, loc='center')\n",
    "\n",
    "sns.boxplot(data=state, x='Population', ax=axes[0, 1])\n",
    "plt.title('Population Distribution (Boxplot)', fontsize=10, loc='center')\n",
    "\n",
    "sns.kdeplot(state, x='Population',ax=axes[1, 0])\n",
    "\n",
    "plt.show()\n",
    "\n",
    "#The distribution os the population does not appear to\n",
    "#correspond to rhe nomal distribution"
   ]
  },
  {
   "cell_type": "code",
   "execution_count": 15,
   "id": "09477e77-e86b-4b5c-afa4-ec600472d0b3",
   "metadata": {},
   "outputs": [
    {
     "name": "stdout",
     "output_type": "stream",
     "text": [
      "Shapiro-Wilk Test: Estatística=0.7192, p=0.0000\n",
      "Kolmogorov-Smirnov Test: Estatística=1.0000, p=0.0000\n",
      "D’Agostino’s K-squared Test: Estatística=47.0611, p=0.0000\n"
     ]
    }
   ],
   "source": [
    "stat, p = shapiro(state['Population'])\n",
    "print(f\"Shapiro-Wilk Test: Estatística={stat:.4f}, p={p:.4f}\")\n",
    "\n",
    "# Teste de Kolmogorov-Smirnov\n",
    "stat, p = kstest(state['Population'], 'norm')\n",
    "print(f\"Kolmogorov-Smirnov Test: Estatística={stat:.4f}, p={p:.4f}\")\n",
    "\n",
    "# Teste de D’Agostino (normaltest)\n",
    "stat, p = normaltest(state['Population'])\n",
    "print(f\"D’Agostino’s K-squared Test: Estatística={stat:.4f}, p={p:.4f}\")\n",
    "\n",
    "\n",
    "# Test interpretation\n",
    "# if the p-value is greater then 0.05, we do not reject H0, indicating \n",
    "# that the data can be considered normal. \n",
    "\n",
    "# else, we reject H0"
   ]
  },
  {
   "cell_type": "code",
   "execution_count": 16,
   "id": "853111df-5f72-43fd-b727-202dee87ee0c",
   "metadata": {},
   "outputs": [
    {
     "data": {
      "text/html": [
       "<div>\n",
       "<style scoped>\n",
       "    .dataframe tbody tr th:only-of-type {\n",
       "        vertical-align: middle;\n",
       "    }\n",
       "\n",
       "    .dataframe tbody tr th {\n",
       "        vertical-align: top;\n",
       "    }\n",
       "\n",
       "    .dataframe thead th {\n",
       "        text-align: right;\n",
       "    }\n",
       "</style>\n",
       "<table border=\"1\" class=\"dataframe\">\n",
       "  <thead>\n",
       "    <tr style=\"text-align: right;\">\n",
       "      <th></th>\n",
       "      <th>5%</th>\n",
       "      <th>25%</th>\n",
       "      <th>50%</th>\n",
       "      <th>75%</th>\n",
       "      <th>95%</th>\n",
       "    </tr>\n",
       "  </thead>\n",
       "  <tbody>\n",
       "    <tr>\n",
       "      <th>0</th>\n",
       "      <td>1.6</td>\n",
       "      <td>2.425</td>\n",
       "      <td>4.0</td>\n",
       "      <td>5.55</td>\n",
       "      <td>6.51</td>\n",
       "    </tr>\n",
       "  </tbody>\n",
       "</table>\n",
       "</div>"
      ],
      "text/plain": [
       "    5%    25%  50%   75%   95%\n",
       "0  1.6  2.425  4.0  5.55  6.51"
      ]
     },
     "execution_count": 16,
     "metadata": {},
     "output_type": "execute_result"
    }
   ],
   "source": [
    "quantiles = np.quantile(state['Murder.Rate'],q=[0.05, 0.25, 0.5, 0.75, 0.95])\n",
    "percentiles = ['5%','25%','50%','75%','95%']\n",
    "\n",
    "df = pd.DataFrame(quantiles.reshape(1, -1), columns=percentiles)\n",
    "\n",
    "df"
   ]
  },
  {
   "cell_type": "code",
   "execution_count": 17,
   "id": "22ccc0ee-fc9c-43ae-9212-1962aa8c1a7f",
   "metadata": {},
   "outputs": [],
   "source": [
    "dfState = state\n",
    "num_bins = 11\n",
    "\n",
    "# Criando os intervalos\n",
    "bins = np.linspace(state['Population'].min(), state['Population'].max(), num_bins)\n",
    "\n",
    "pop_freq = pd.cut(state['Population'], bins, include_lowest=True)\n",
    "\n",
    "dfState['Population'] = pop_freq"
   ]
  },
  {
   "cell_type": "code",
   "execution_count": 18,
   "id": "c777f44d-d191-4cbb-a4a9-3e515786aca1",
   "metadata": {},
   "outputs": [
    {
     "name": "stderr",
     "output_type": "stream",
     "text": [
      "C:\\Users\\alpaula\\AppData\\Local\\Temp\\ipykernel_8424\\2983702753.py:1: FutureWarning: The default of observed=False is deprecated and will be changed to True in a future version of pandas. Pass observed=False to retain current behavior or observed=True to adopt the future default and silence this warning.\n",
      "  dfState.groupby('Population').agg({'State': 'count' ,'Abbreviation': list})\n"
     ]
    },
    {
     "data": {
      "text/html": [
       "<div>\n",
       "<style scoped>\n",
       "    .dataframe tbody tr th:only-of-type {\n",
       "        vertical-align: middle;\n",
       "    }\n",
       "\n",
       "    .dataframe tbody tr th {\n",
       "        vertical-align: top;\n",
       "    }\n",
       "\n",
       "    .dataframe thead th {\n",
       "        text-align: right;\n",
       "    }\n",
       "</style>\n",
       "<table border=\"1\" class=\"dataframe\">\n",
       "  <thead>\n",
       "    <tr style=\"text-align: right;\">\n",
       "      <th></th>\n",
       "      <th>State</th>\n",
       "      <th>Abbreviation</th>\n",
       "    </tr>\n",
       "    <tr>\n",
       "      <th>Population</th>\n",
       "      <th></th>\n",
       "      <th></th>\n",
       "    </tr>\n",
       "  </thead>\n",
       "  <tbody>\n",
       "    <tr>\n",
       "      <th>(563625.999, 4232659.0]</th>\n",
       "      <td>24</td>\n",
       "      <td>[WY, VT, ND, AK, SD, DE, MT, RI, NH, ME, HI, I...</td>\n",
       "    </tr>\n",
       "    <tr>\n",
       "      <th>(4232659.0, 7901692.0]</th>\n",
       "      <td>14</td>\n",
       "      <td>[KY, LA, SC, AL, CO, MN, WI, MD, MO, TN, AZ, I...</td>\n",
       "    </tr>\n",
       "    <tr>\n",
       "      <th>(7901692.0, 11570725.0]</th>\n",
       "      <td>6</td>\n",
       "      <td>[VA, NJ, NC, GA, MI, OH]</td>\n",
       "    </tr>\n",
       "    <tr>\n",
       "      <th>(11570725.0, 15239758.0]</th>\n",
       "      <td>2</td>\n",
       "      <td>[PA, IL]</td>\n",
       "    </tr>\n",
       "    <tr>\n",
       "      <th>(15239758.0, 18908791.0]</th>\n",
       "      <td>1</td>\n",
       "      <td>[FL]</td>\n",
       "    </tr>\n",
       "    <tr>\n",
       "      <th>(18908791.0, 22577824.0]</th>\n",
       "      <td>1</td>\n",
       "      <td>[NY]</td>\n",
       "    </tr>\n",
       "    <tr>\n",
       "      <th>(22577824.0, 26246857.0]</th>\n",
       "      <td>1</td>\n",
       "      <td>[TX]</td>\n",
       "    </tr>\n",
       "    <tr>\n",
       "      <th>(26246857.0, 29915890.0]</th>\n",
       "      <td>0</td>\n",
       "      <td>[]</td>\n",
       "    </tr>\n",
       "    <tr>\n",
       "      <th>(29915890.0, 33584923.0]</th>\n",
       "      <td>0</td>\n",
       "      <td>[]</td>\n",
       "    </tr>\n",
       "    <tr>\n",
       "      <th>(33584923.0, 37253956.0]</th>\n",
       "      <td>1</td>\n",
       "      <td>[CA]</td>\n",
       "    </tr>\n",
       "  </tbody>\n",
       "</table>\n",
       "</div>"
      ],
      "text/plain": [
       "                          State  \\\n",
       "Population                        \n",
       "(563625.999, 4232659.0]      24   \n",
       "(4232659.0, 7901692.0]       14   \n",
       "(7901692.0, 11570725.0]       6   \n",
       "(11570725.0, 15239758.0]      2   \n",
       "(15239758.0, 18908791.0]      1   \n",
       "(18908791.0, 22577824.0]      1   \n",
       "(22577824.0, 26246857.0]      1   \n",
       "(26246857.0, 29915890.0]      0   \n",
       "(29915890.0, 33584923.0]      0   \n",
       "(33584923.0, 37253956.0]      1   \n",
       "\n",
       "                                                               Abbreviation  \n",
       "Population                                                                   \n",
       "(563625.999, 4232659.0]   [WY, VT, ND, AK, SD, DE, MT, RI, NH, ME, HI, I...  \n",
       "(4232659.0, 7901692.0]    [KY, LA, SC, AL, CO, MN, WI, MD, MO, TN, AZ, I...  \n",
       "(7901692.0, 11570725.0]                            [VA, NJ, NC, GA, MI, OH]  \n",
       "(11570725.0, 15239758.0]                                           [PA, IL]  \n",
       "(15239758.0, 18908791.0]                                               [FL]  \n",
       "(18908791.0, 22577824.0]                                               [NY]  \n",
       "(22577824.0, 26246857.0]                                               [TX]  \n",
       "(26246857.0, 29915890.0]                                                 []  \n",
       "(29915890.0, 33584923.0]                                                 []  \n",
       "(33584923.0, 37253956.0]                                               [CA]  "
      ]
     },
     "execution_count": 18,
     "metadata": {},
     "output_type": "execute_result"
    }
   ],
   "source": [
    "dfState.groupby('Population').agg({'State': 'count' ,'Abbreviation': list})"
   ]
  },
  {
   "cell_type": "code",
   "execution_count": 33,
   "id": "724a3fa5-f4a5-4739-814c-d1fd633927f9",
   "metadata": {},
   "outputs": [
    {
     "data": {
      "text/plain": [
       "<Axes: xlabel='Murder.Rate', ylabel='Density'>"
      ]
     },
     "execution_count": 33,
     "metadata": {},
     "output_type": "execute_result"
    },
    {
     "data": {
      "image/png": "[encoded data removed]",
      "text/plain": [
       "<Figure size 1200x600 with 2 Axes>"
      ]
     },
     "metadata": {},
     "output_type": "display_data"
    }
   ],
   "source": [
    "fig, axes = plt.subplots(1, 2, figsize=(12, 6))\n",
    "\n",
    "sns.histplot(state['Murder.Rate'], bins=15, ax=axes[0])\n",
    "\n",
    "sns.kdeplot(state['Murder.Rate'], ax=axes[1], bw_method=0.25)"
   ]
  },
  {
   "cell_type": "code",
   "execution_count": 40,
   "id": "434a3133-0093-4485-aec6-81acc068ab73",
   "metadata": {},
   "outputs": [
    {
     "data": {
      "text/plain": [
       "1.337085776717783e-125"
      ]
     },
     "execution_count": 40,
     "metadata": {},
     "output_type": "execute_result"
    }
   ],
   "source": [
    "mean = 6\n",
    "variance = 0.25\n",
    "\n",
    "normal = norm(loc=mean, scale=variance)\n",
    "\n",
    "normal.pdf(0)"
   ]
  },
  {
   "cell_type": "code",
   "execution_count": 58,
   "id": "b6098c3a-26cb-4243-bf17-7d9b4c75432a",
   "metadata": {},
   "outputs": [],
   "source": [
    "def normal(x, h,array):\n",
    "    return (1 / np.sqrt(2 * np.pi)) * np.exp(-0.5 * u**2)"
   ]
  },
  {
   "cell_type": "code",
   "execution_count": 61,
   "id": "cce2c971-2a70-4759-a304-402b46dd98dd",
   "metadata": {},
   "outputs": [
    {
     "data": {
      "text/plain": [
       "3.726653172078671e-06"
      ]
     },
     "execution_count": 61,
     "metadata": {},
     "output_type": "execute_result"
    }
   ],
   "source": [
    "np.exp(-0.5 * u**2)"
   ]
  },
  {
   "cell_type": "code",
   "execution_count": 55,
   "id": "2c5c5b00-ad1c-4859-94bf-d68bdcf34b1b",
   "metadata": {},
   "outputs": [
    {
     "data": {
      "text/plain": [
       "array([ 2.7,  1.6,  3. ,  5.6,  2.3,  5.8,  3.6,  2.4,  0.9,  1.6,  1.8,\n",
       "        2. ,  2.9,  4. ,  4.8,  6. ,  2.3,  3.1,  5.6,  8.6,  1.9,  2.4,\n",
       "        4.5,  2. ,  3.6, 10.3,  6.4,  5.7,  2.8,  1.6,  2.9,  6.1,  6.6,\n",
       "        5.7,  4.7,  5. ,  2. ,  2.5,  4.1,  3.9,  5.1,  5.7,  5.4,  4. ,\n",
       "        4.8,  5.3,  5.8,  3.1,  4.4,  4.4])"
      ]
     },
     "execution_count": 55,
     "metadata": {},
     "output_type": "execute_result"
    }
   ],
   "source": [
    "state['Murder.Rate'].values"
   ]
  },
  {
   "cell_type": "code",
   "execution_count": 64,
   "id": "26f12dfe-24ab-470c-b782-9fa22c65395c",
   "metadata": {},
   "outputs": [],
   "source": [
    "x = 2  # Ponto em que o KDE será calculado\n",
    "h = 0.25  # Largura de banda\n",
    "\n",
    "# Função Kernel Gaussiano\n",
    "def kernel_gaussiano(u):\n",
    "    return (1 / np.sqrt(2 * np.pi)) * np.exp(-0.5 * u**2)"
   ]
  },
  {
   "cell_type": "code",
   "execution_count": 68,
   "id": "45eef817-8c2f-4fde-bf39-9742305759a4",
   "metadata": {},
   "outputs": [],
   "source": [
    "u = (x - state['Murder.Rate']) / h\n",
    "n = len(state['Murder.Rate'])\n",
    "\n",
    "kernels = kernel_gaussiano(u)\n",
    "\n",
    "np.sum(k)"
   ]
  },
  {
   "cell_type": "code",
   "execution_count": null,
   "id": "f881313a-e4fb-4e6d-b5fa-6d47652a53eb",
   "metadata": {},
   "outputs": [],
   "source": [
    "# Calculando KDE para x=2\n",
    "n = len(dados)\n",
    "u = (x - dados) / h  # Distâncias normalizadas\n",
    "kernels = kernel_gaussiano(u)\n",
    "kde_x = np.sum(kernels) / (n * h)  # Estimativa de densidade\n",
    "\n",
    "kde_x"
   ]
  }
 ],
 "metadata": {
  "colab": {
   "provenance": []
  },
  "kernelspec": {
   "display_name": "Python 3 (ipykernel)",
   "language": "python",
   "name": "python3"
  },
  "language_info": {
   "codemirror_mode": {
    "name": "ipython",
    "version": 3
   },
   "file_extension": ".py",
   "mimetype": "text/x-python",
   "name": "python",
   "nbconvert_exporter": "python",
   "pygments_lexer": "ipython3",
   "version": "3.12.4"
  },
  "widgets": {
   "application/vnd.jupyter.widget-state+json": {
    "state": {},
    "version_major": 2,
    "version_minor": 0
   }
  }
 },
 "nbformat": 4,
 "nbformat_minor": 5
}
